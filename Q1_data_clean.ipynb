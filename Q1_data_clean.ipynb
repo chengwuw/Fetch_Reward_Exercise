{
 "cells": [
  {
   "cell_type": "markdown",
   "metadata": {},
   "source": [
    "# Fetch Reward DA Exercise\n",
    "Question #1 : converting unstructure data into structure one (json.gz file > json file > csv file)\n",
    "<br>\n",
    "Author: Chengwu Weng\n",
    "<br>\n",
    "Date: 8/26/2021"
   ]
  },
  {
   "cell_type": "code",
   "execution_count": 1,
   "metadata": {},
   "outputs": [],
   "source": [
    "import gzip\n",
    "import json\n",
    "import csv\n",
    "import pandas as pd\n",
    "import time\n",
    "from datetime import datetime\n",
    "pd.set_option('display.max_columns', None)"
   ]
  },
  {
   "cell_type": "markdown",
   "metadata": {},
   "source": [
    "# Data transformation"
   ]
  },
  {
   "cell_type": "markdown",
   "metadata": {},
   "source": [
    "## Json.gz to json"
   ]
  },
  {
   "cell_type": "code",
   "execution_count": 3,
   "metadata": {},
   "outputs": [],
   "source": [
    "# open `brands.json.gz` and convert to `brands.json`\n",
    "brands = []\n",
    "for line in gzip.open(filename = 'brands.json.gz', mode='r'):\n",
    "    brands.append(json.loads(line))\n",
    "    \n",
    "with open('brands.json', 'w') as f:\n",
    "    json.dump(brands, f)"
   ]
  },
  {
   "cell_type": "code",
   "execution_count": 4,
   "metadata": {},
   "outputs": [],
   "source": [
    "def transform_brands(brands):\n",
    "    for i in brands:\n",
    "        i['cpg_id'] = i['cpg']['$id']['$oid'] if 'cpg' in i and '$id' in i['cpg'] and '$oid' in i['cpg']['$id'] else None\n",
    "        i['cpg_ref'] = i['cpg']['$ref'] if 'cpg' in i and '$ref' in i['cpg'] else None\n",
    "    return brands"
   ]
  },
  {
   "cell_type": "code",
   "execution_count": 5,
   "metadata": {},
   "outputs": [],
   "source": [
    "brands = transform_brands(brands)"
   ]
  },
  {
   "cell_type": "code",
   "execution_count": 6,
   "metadata": {
    "scrolled": true
   },
   "outputs": [
    {
     "data": {
      "text/plain": [
       "1167"
      ]
     },
     "execution_count": 6,
     "metadata": {},
     "output_type": "execute_result"
    }
   ],
   "source": [
    "len(brands)"
   ]
  },
  {
   "cell_type": "code",
   "execution_count": 7,
   "metadata": {},
   "outputs": [],
   "source": [
    "# open `receipts.json.gz` and convert to `receipts.json`\n",
    "receipts = []\n",
    "for line in gzip.open(filename = 'receipts.json.gz', mode='r'):\n",
    "    receipts.append(json.loads(line))\n",
    "\n",
    "with open('receipts.json', 'w') as f:\n",
    "    json.dump(receipts, f)"
   ]
  },
  {
   "cell_type": "code",
   "execution_count": 8,
   "metadata": {},
   "outputs": [
    {
     "data": {
      "text/plain": [
       "1119"
      ]
     },
     "execution_count": 8,
     "metadata": {},
     "output_type": "execute_result"
    }
   ],
   "source": [
    "len(receipts)"
   ]
  },
  {
   "cell_type": "code",
   "execution_count": 9,
   "metadata": {},
   "outputs": [],
   "source": [
    "# open `users.json.gz` and convert to `users.json`\n",
    "users = []\n",
    "for line in gzip.open(filename = 'users.json.gz', mode='r'):\n",
    "    users.append(json.loads(line))\n",
    "\n",
    "with open('users.json', 'w') as f:\n",
    "    json.dump(users, f)"
   ]
  },
  {
   "cell_type": "code",
   "execution_count": 10,
   "metadata": {},
   "outputs": [
    {
     "data": {
      "text/plain": [
       "495"
      ]
     },
     "execution_count": 10,
     "metadata": {},
     "output_type": "execute_result"
    }
   ],
   "source": [
    "len(users)"
   ]
  },
  {
   "cell_type": "markdown",
   "metadata": {},
   "source": [
    "## Json to csv"
   ]
  },
  {
   "cell_type": "code",
   "execution_count": 11,
   "metadata": {},
   "outputs": [],
   "source": [
    "# write to csv from list of dictionary\n",
    "def list_to_csv(data = brands, name = 'brands'):\n",
    "    toCSV = data\n",
    "    filename = \"%s.csv\" % name\n",
    "    keys = set().union(*(d.keys() for d in toCSV))\n",
    "    with open(filename, 'w', encoding='utf8', newline='') as output_file:\n",
    "        fc = csv.DictWriter(output_file, \n",
    "                            fieldnames = keys) # toCSV[3].keys()\n",
    "        fc.writeheader()\n",
    "        fc.writerows(toCSV)"
   ]
  },
  {
   "cell_type": "code",
   "execution_count": 12,
   "metadata": {},
   "outputs": [],
   "source": [
    "def get_rewardreceiptitemlist(receipts):\n",
    "    rewardsReceiptItemList = []\n",
    "    for i in receipts:\n",
    "        if 'rewardsReceiptItemList' in i:\n",
    "            for j in i['rewardsReceiptItemList']:\n",
    "                j['receiptid'] = i['_id']['$oid']\n",
    "                rewardsReceiptItemList.append(j)\n",
    "    return rewardsReceiptItemList"
   ]
  },
  {
   "cell_type": "code",
   "execution_count": 13,
   "metadata": {},
   "outputs": [],
   "source": [
    "rewardsReceiptItemList = get_rewardreceiptitemlist(receipts)\n",
    "\n",
    "list_to_csv(brands, 'brands')\n",
    "list_to_csv(receipts, 'receipts')\n",
    "list_to_csv(users, 'users')\n",
    "list_to_csv(rewardsReceiptItemList, 'rewardsReceiptItemList')"
   ]
  },
  {
   "cell_type": "markdown",
   "metadata": {},
   "source": [
    "## Date"
   ]
  },
  {
   "cell_type": "code",
   "execution_count": 14,
   "metadata": {},
   "outputs": [],
   "source": [
    "data_brands = pd.DataFrame.from_records(brands)\n",
    "data_receipts = pd.DataFrame.from_records(receipts)\n",
    "data_users = pd.DataFrame.from_records(users)\n",
    "data_rewardsReceiptItemList = pd.DataFrame.from_records(rewardsReceiptItemList)\n",
    "# https://stackoverflow.com/questions/20638006/convert-list-of-dictionaries-to-a-pandas-dataframe/33020669#33020669"
   ]
  },
  {
   "cell_type": "code",
   "execution_count": 15,
   "metadata": {
    "scrolled": true
   },
   "outputs": [],
   "source": [
    "data_brands['_id'] = data_brands['_id'].apply(lambda x: x.get('$oid'))\n",
    "data_receipts['_id'] = data_receipts['_id'].apply(lambda x: x.get('$oid'))\n",
    "data_users['_id'] = data_users['_id'].apply(lambda x: x.get('$oid'))"
   ]
  },
  {
   "cell_type": "code",
   "execution_count": 16,
   "metadata": {},
   "outputs": [],
   "source": [
    "def get_date(df, col):\n",
    "    for i in range(len(df)):\n",
    "        if ~pd.isna(df[col][i]) == -1 : \n",
    "            df[col][i] = df[col][i].get('$date')\n",
    "        else: continue"
   ]
  },
  {
   "cell_type": "code",
   "execution_count": 17,
   "metadata": {},
   "outputs": [
    {
     "name": "stderr",
     "output_type": "stream",
     "text": [
      "E:\\anaconda\\lib\\site-packages\\ipykernel_launcher.py:4: SettingWithCopyWarning: \n",
      "A value is trying to be set on a copy of a slice from a DataFrame\n",
      "\n",
      "See the caveats in the documentation: https://pandas.pydata.org/pandas-docs/stable/user_guide/indexing.html#returning-a-view-versus-a-copy\n",
      "  after removing the cwd from sys.path.\n"
     ]
    }
   ],
   "source": [
    "get_date(data_receipts, 'createDate')\n",
    "get_date(data_receipts, 'dateScanned')\n",
    "get_date(data_receipts, 'finishedDate')\n",
    "get_date(data_receipts, 'pointsAwardedDate')\n",
    "get_date(data_receipts, 'purchaseDate')\n",
    "get_date(data_receipts, 'modifyDate')\n",
    "get_date(data_users, 'createdDate')\n",
    "get_date(data_users, 'lastLogin')"
   ]
  },
  {
   "cell_type": "code",
   "execution_count": null,
   "metadata": {},
   "outputs": [],
   "source": []
  },
  {
   "cell_type": "code",
   "execution_count": 18,
   "metadata": {},
   "outputs": [],
   "source": [
    "# https://blog.csdn.net/woddle/article/details/97389197?utm_medium=distribute.pc_relevant_t0.none-task-blog-2%7Edefault%7EBlogCommendFromMachineLearnPai2%7Edefault-1.control&depth_1-utm_source=distribute.pc_relevant_t0.none-task-blog-2%7Edefault%7EBlogCommendFromMachineLearnPai2%7Edefault-1.control\n",
    "def timestamp_to_datetime(timestamp):\n",
    "    local_dt_time = datetime.fromtimestamp(timestamp / 1000.0)\n",
    "    return local_dt_time\n",
    "\n",
    "def df_to_datetime(df, col):\n",
    "    for i in range(len(df)):\n",
    "        if ~pd.isna(df[col][i]) == -1 : \n",
    "            df[col][i] = timestamp_to_datetime(df[col][i])\n",
    "        else: continue"
   ]
  },
  {
   "cell_type": "code",
   "execution_count": 19,
   "metadata": {},
   "outputs": [
    {
     "name": "stderr",
     "output_type": "stream",
     "text": [
      "E:\\anaconda\\lib\\site-packages\\ipykernel_launcher.py:9: SettingWithCopyWarning: \n",
      "A value is trying to be set on a copy of a slice from a DataFrame\n",
      "\n",
      "See the caveats in the documentation: https://pandas.pydata.org/pandas-docs/stable/user_guide/indexing.html#returning-a-view-versus-a-copy\n",
      "  if __name__ == '__main__':\n"
     ]
    }
   ],
   "source": [
    "df_to_datetime(data_receipts, 'createDate')\n",
    "df_to_datetime(data_receipts, 'dateScanned')\n",
    "df_to_datetime(data_receipts, 'finishedDate')\n",
    "df_to_datetime(data_receipts, 'pointsAwardedDate')\n",
    "df_to_datetime(data_receipts, 'purchaseDate')\n",
    "df_to_datetime(data_receipts, 'modifyDate')\n",
    "df_to_datetime(data_users, 'createdDate')\n",
    "df_to_datetime(data_users, 'lastLogin')"
   ]
  },
  {
   "cell_type": "code",
   "execution_count": 20,
   "metadata": {},
   "outputs": [],
   "source": [
    "data_brands.to_csv(r'brands.csv',index=False)\n",
    "data_receipts.to_csv(r'receipts.csv',index=False)\n",
    "data_users.to_csv(r'users.csv',index=False)"
   ]
  },
  {
   "cell_type": "code",
   "execution_count": null,
   "metadata": {},
   "outputs": [],
   "source": []
  },
  {
   "cell_type": "code",
   "execution_count": null,
   "metadata": {},
   "outputs": [],
   "source": []
  }
 ],
 "metadata": {
  "kernelspec": {
   "display_name": "Python 3",
   "language": "python",
   "name": "python3"
  },
  "language_info": {
   "codemirror_mode": {
    "name": "ipython",
    "version": 3
   },
   "file_extension": ".py",
   "mimetype": "text/x-python",
   "name": "python",
   "nbconvert_exporter": "python",
   "pygments_lexer": "ipython3",
   "version": "3.7.1"
  },
  "toc": {
   "base_numbering": 1,
   "nav_menu": {},
   "number_sections": true,
   "sideBar": true,
   "skip_h1_title": false,
   "title_cell": "Table of Contents",
   "title_sidebar": "Contents",
   "toc_cell": false,
   "toc_position": {},
   "toc_section_display": true,
   "toc_window_display": false
  }
 },
 "nbformat": 4,
 "nbformat_minor": 4
}
