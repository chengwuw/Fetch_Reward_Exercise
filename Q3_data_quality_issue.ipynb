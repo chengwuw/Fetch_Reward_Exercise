{
 "cells": [
  {
   "cell_type": "markdown",
   "metadata": {},
   "source": [
    "# Fetch Reward DA Exercise\n",
    "Question #3 : Detecting data issue (null/missing value, duplicate and data inconsistency)\n",
    "<br>\n",
    "Author: Chengwu Weng\n",
    "<br>\n",
    "Date: 8/26/2021"
   ]
  },
  {
   "cell_type": "code",
   "execution_count": 1,
   "metadata": {},
   "outputs": [],
   "source": [
    "import pandas as pd\n",
    "pd.set_option('display.max_columns', None)"
   ]
  },
  {
   "cell_type": "code",
   "execution_count": 3,
   "metadata": {},
   "outputs": [],
   "source": [
    "data_users = pd.read_csv('users.csv')\n",
    "data_receipts = pd.read_csv('receipts.csv')\n",
    "data_brands = pd.read_csv('brands.csv')\n",
    "data_rewardsReceiptItemList = pd.read_csv('rewardsReceiptItemList.csv')"
   ]
  },
  {
   "cell_type": "markdown",
   "metadata": {},
   "source": [
    "# Data Issue"
   ]
  },
  {
   "cell_type": "markdown",
   "metadata": {},
   "source": [
    "\n",
    "*** \n",
    "I found mainly three data issues: null value, duplicate value & data inconsistency.\n",
    "<br>\n",
    "\n",
    "***\n"
   ]
  },
  {
   "cell_type": "markdown",
   "metadata": {},
   "source": [
    "## Null Value"
   ]
  },
  {
   "cell_type": "code",
   "execution_count": 4,
   "metadata": {},
   "outputs": [
    {
     "data": {
      "text/plain": [
       "_id              0\n",
       "active           0\n",
       "createdDate      0\n",
       "lastLogin       62\n",
       "role             0\n",
       "signUpSource    48\n",
       "state           56\n",
       "dtype: int64"
      ]
     },
     "execution_count": 4,
     "metadata": {},
     "output_type": "execute_result"
    }
   ],
   "source": [
    "data_users.isna().sum()"
   ]
  },
  {
   "cell_type": "code",
   "execution_count": 5,
   "metadata": {},
   "outputs": [
    {
     "data": {
      "text/plain": [
       "_id                          0\n",
       "bonusPointsEarned          575\n",
       "bonusPointsEarnedReason    575\n",
       "createDate                   0\n",
       "dateScanned                  0\n",
       "finishedDate               551\n",
       "modifyDate                   0\n",
       "pointsAwardedDate          582\n",
       "pointsEarned               510\n",
       "purchaseDate               448\n",
       "purchasedItemCount         484\n",
       "rewardsReceiptItemList     440\n",
       "rewardsReceiptStatus         0\n",
       "totalSpent                 435\n",
       "userId                       0\n",
       "dtype: int64"
      ]
     },
     "execution_count": 5,
     "metadata": {},
     "output_type": "execute_result"
    }
   ],
   "source": [
    "data_receipts.isna().sum()"
   ]
  },
  {
   "cell_type": "code",
   "execution_count": 6,
   "metadata": {},
   "outputs": [
    {
     "data": {
      "text/plain": [
       "_id               0\n",
       "barcode           0\n",
       "category        155\n",
       "categoryCode    650\n",
       "cpg               0\n",
       "name              0\n",
       "topBrand        612\n",
       "cpg_id            0\n",
       "cpg_ref           0\n",
       "brandCode       269\n",
       "dtype: int64"
      ]
     },
     "execution_count": 6,
     "metadata": {},
     "output_type": "execute_result"
    }
   ],
   "source": [
    "data_brands.isna().sum()"
   ]
  },
  {
   "cell_type": "code",
   "execution_count": 7,
   "metadata": {
    "scrolled": true
   },
   "outputs": [
    {
     "data": {
      "text/plain": [
       "preventTargetGapPoints                6583\n",
       "pointsPayerId                         5674\n",
       "userFlaggedDescription                6787\n",
       "itemPrice                              174\n",
       "originalMetaBriteQuantityPurchased    6926\n",
       "pointsNotAwardedReason                6601\n",
       "barcode                               3851\n",
       "needsFetchReviewReason                6722\n",
       "originalMetaBriteDescription          6931\n",
       "userFlaggedBarcode                    6604\n",
       "metabriteCampaignId                   6078\n",
       "partnerItemId                            0\n",
       "userFlaggedQuantity                   6642\n",
       "originalFinalPrice                    6932\n",
       "pointsEarned                          6014\n",
       "quantityPurchased                      174\n",
       "originalMetaBriteBarcode              6917\n",
       "priceAfterCoupon                      5985\n",
       "userFlaggedNewItem                    6618\n",
       "competitorRewardsGroup                6666\n",
       "receiptid                                0\n",
       "rewardsGroup                          5210\n",
       "discountedItemPrice                   1172\n",
       "originalMetaBriteItemPrice            6932\n",
       "itemNumber                            6788\n",
       "targetPrice                           6563\n",
       "needsFetchReview                      6128\n",
       "description                            381\n",
       "finalPrice                             174\n",
       "deleted                               6932\n",
       "userFlaggedPrice                      6642\n",
       "competitiveProduct                    6296\n",
       "originalReceiptItemText               1181\n",
       "brandCode                             4341\n",
       "rewardsProductPartnerId               4672\n",
       "dtype: int64"
      ]
     },
     "execution_count": 7,
     "metadata": {},
     "output_type": "execute_result"
    }
   ],
   "source": [
    "data_rewardsReceiptItemList.isna().sum()"
   ]
  },
  {
   "cell_type": "code",
   "execution_count": null,
   "metadata": {},
   "outputs": [],
   "source": []
  },
  {
   "cell_type": "markdown",
   "metadata": {},
   "source": [
    "## Duplicate Value"
   ]
  },
  {
   "cell_type": "markdown",
   "metadata": {},
   "source": [
    "### Users"
   ]
  },
  {
   "cell_type": "markdown",
   "metadata": {},
   "source": [
    "\n",
    "*** \n",
    "**One row should represent one users.**\n",
    "<br>\n",
    "However, in the table of `Users`, there are `209` duplicates out of total rows of 413 except 82 fetch test staff. \n",
    "\n",
    "***\n"
   ]
  },
  {
   "cell_type": "code",
   "execution_count": 8,
   "metadata": {},
   "outputs": [
    {
     "name": "stdout",
     "output_type": "stream",
     "text": [
      "total value of duplicate in all user id 283\n",
      "total value of duplicate in consumer user id 209\n"
     ]
    }
   ],
   "source": [
    "print('total value of duplicate in all user id', data_users['_id'].duplicated().sum())\n",
    "user_con = data_users[data_users.role != 'fetch-staff' ]\n",
    "print('total value of duplicate in consumer user id', user_con['_id'].duplicated().sum())"
   ]
  },
  {
   "cell_type": "code",
   "execution_count": 9,
   "metadata": {
    "scrolled": false
   },
   "outputs": [
    {
     "data": {
      "text/html": [
       "<div>\n",
       "<style scoped>\n",
       "    .dataframe tbody tr th:only-of-type {\n",
       "        vertical-align: middle;\n",
       "    }\n",
       "\n",
       "    .dataframe tbody tr th {\n",
       "        vertical-align: top;\n",
       "    }\n",
       "\n",
       "    .dataframe thead th {\n",
       "        text-align: right;\n",
       "    }\n",
       "</style>\n",
       "<table border=\"1\" class=\"dataframe\">\n",
       "  <thead>\n",
       "    <tr style=\"text-align: right;\">\n",
       "      <th></th>\n",
       "      <th>_id</th>\n",
       "      <th>active</th>\n",
       "      <th>createdDate</th>\n",
       "      <th>lastLogin</th>\n",
       "      <th>role</th>\n",
       "      <th>signUpSource</th>\n",
       "      <th>state</th>\n",
       "    </tr>\n",
       "  </thead>\n",
       "  <tbody>\n",
       "    <tr>\n",
       "      <th>1</th>\n",
       "      <td>5ff1e194b6a9d73a3a9f1052</td>\n",
       "      <td>True</td>\n",
       "      <td>2021-01-03 07:24:04.800000</td>\n",
       "      <td>2021-01-03 07:25:37.858000</td>\n",
       "      <td>consumer</td>\n",
       "      <td>Email</td>\n",
       "      <td>WI</td>\n",
       "    </tr>\n",
       "    <tr>\n",
       "      <th>2</th>\n",
       "      <td>5ff1e194b6a9d73a3a9f1052</td>\n",
       "      <td>True</td>\n",
       "      <td>2021-01-03 07:24:04.800000</td>\n",
       "      <td>2021-01-03 07:25:37.858000</td>\n",
       "      <td>consumer</td>\n",
       "      <td>Email</td>\n",
       "      <td>WI</td>\n",
       "    </tr>\n",
       "    <tr>\n",
       "      <th>4</th>\n",
       "      <td>5ff1e194b6a9d73a3a9f1052</td>\n",
       "      <td>True</td>\n",
       "      <td>2021-01-03 07:24:04.800000</td>\n",
       "      <td>2021-01-03 07:25:37.858000</td>\n",
       "      <td>consumer</td>\n",
       "      <td>Email</td>\n",
       "      <td>WI</td>\n",
       "    </tr>\n",
       "    <tr>\n",
       "      <th>5</th>\n",
       "      <td>5ff1e194b6a9d73a3a9f1052</td>\n",
       "      <td>True</td>\n",
       "      <td>2021-01-03 07:24:04.800000</td>\n",
       "      <td>2021-01-03 07:25:37.858000</td>\n",
       "      <td>consumer</td>\n",
       "      <td>Email</td>\n",
       "      <td>WI</td>\n",
       "    </tr>\n",
       "    <tr>\n",
       "      <th>8</th>\n",
       "      <td>5ff1e194b6a9d73a3a9f1052</td>\n",
       "      <td>True</td>\n",
       "      <td>2021-01-03 07:24:04.800000</td>\n",
       "      <td>2021-01-03 07:25:37.858000</td>\n",
       "      <td>consumer</td>\n",
       "      <td>Email</td>\n",
       "      <td>WI</td>\n",
       "    </tr>\n",
       "  </tbody>\n",
       "</table>\n",
       "</div>"
      ],
      "text/plain": [
       "                        _id  active                 createdDate  \\\n",
       "1  5ff1e194b6a9d73a3a9f1052    True  2021-01-03 07:24:04.800000   \n",
       "2  5ff1e194b6a9d73a3a9f1052    True  2021-01-03 07:24:04.800000   \n",
       "4  5ff1e194b6a9d73a3a9f1052    True  2021-01-03 07:24:04.800000   \n",
       "5  5ff1e194b6a9d73a3a9f1052    True  2021-01-03 07:24:04.800000   \n",
       "8  5ff1e194b6a9d73a3a9f1052    True  2021-01-03 07:24:04.800000   \n",
       "\n",
       "                    lastLogin      role signUpSource state  \n",
       "1  2021-01-03 07:25:37.858000  consumer        Email    WI  \n",
       "2  2021-01-03 07:25:37.858000  consumer        Email    WI  \n",
       "4  2021-01-03 07:25:37.858000  consumer        Email    WI  \n",
       "5  2021-01-03 07:25:37.858000  consumer        Email    WI  \n",
       "8  2021-01-03 07:25:37.858000  consumer        Email    WI  "
      ]
     },
     "execution_count": 9,
     "metadata": {},
     "output_type": "execute_result"
    }
   ],
   "source": [
    "user_con[user_con._id.duplicated()].head(5)"
   ]
  },
  {
   "cell_type": "markdown",
   "metadata": {},
   "source": [
    "### Brands"
   ]
  },
  {
   "cell_type": "markdown",
   "metadata": {},
   "source": [
    "\n",
    "*** \n",
    "**Same barcode is for same product.**\n",
    "<br>\n",
    "However, in the table of `Brands`, one barcode has two different category as well as brand names.\n",
    "\n",
    "Our program website can be found at <a href=\"http://earthdatascience.org\" target=\"_blank\">this link</a>.\n",
    "\n",
    "***\n"
   ]
  },
  {
   "cell_type": "code",
   "execution_count": 10,
   "metadata": {
    "scrolled": true
   },
   "outputs": [
    {
     "data": {
      "text/plain": [
       "0"
      ]
     },
     "execution_count": 10,
     "metadata": {},
     "output_type": "execute_result"
    }
   ],
   "source": [
    "data_brands._id.duplicated().sum()"
   ]
  },
  {
   "cell_type": "code",
   "execution_count": 11,
   "metadata": {
    "scrolled": true
   },
   "outputs": [
    {
     "data": {
      "text/html": [
       "<div>\n",
       "<style scoped>\n",
       "    .dataframe tbody tr th:only-of-type {\n",
       "        vertical-align: middle;\n",
       "    }\n",
       "\n",
       "    .dataframe tbody tr th {\n",
       "        vertical-align: top;\n",
       "    }\n",
       "\n",
       "    .dataframe thead th {\n",
       "        text-align: right;\n",
       "    }\n",
       "</style>\n",
       "<table border=\"1\" class=\"dataframe\">\n",
       "  <thead>\n",
       "    <tr style=\"text-align: right;\">\n",
       "      <th></th>\n",
       "      <th>_id</th>\n",
       "      <th>barcode</th>\n",
       "      <th>category</th>\n",
       "      <th>categoryCode</th>\n",
       "      <th>cpg</th>\n",
       "      <th>name</th>\n",
       "      <th>topBrand</th>\n",
       "      <th>cpg_id</th>\n",
       "      <th>cpg_ref</th>\n",
       "      <th>brandCode</th>\n",
       "    </tr>\n",
       "  </thead>\n",
       "  <tbody>\n",
       "    <tr>\n",
       "      <th>299</th>\n",
       "      <td>5a8c33f3e4b07f0a2dac8943</td>\n",
       "      <td>511111504139</td>\n",
       "      <td>Grocery</td>\n",
       "      <td>NaN</td>\n",
       "      <td>{'$ref': 'Cogs', '$id': {'$oid': '5a734034e4b0...</td>\n",
       "      <td>Pace</td>\n",
       "      <td>False</td>\n",
       "      <td>5a734034e4b0d58f376be874</td>\n",
       "      <td>Cogs</td>\n",
       "      <td>PACE</td>\n",
       "    </tr>\n",
       "    <tr>\n",
       "      <th>412</th>\n",
       "      <td>5ccb2ece166eb31bbbadccbe</td>\n",
       "      <td>511111504788</td>\n",
       "      <td>Condiments &amp; Sauces</td>\n",
       "      <td>NaN</td>\n",
       "      <td>{'$ref': 'Cogs', '$id': {'$oid': '559c2234e4b0...</td>\n",
       "      <td>The Pioneer Woman</td>\n",
       "      <td>NaN</td>\n",
       "      <td>559c2234e4b06aca36af13c6</td>\n",
       "      <td>Cogs</td>\n",
       "      <td>PIONEER WOMAN</td>\n",
       "    </tr>\n",
       "  </tbody>\n",
       "</table>\n",
       "</div>"
      ],
      "text/plain": [
       "                          _id       barcode             category categoryCode  \\\n",
       "299  5a8c33f3e4b07f0a2dac8943  511111504139              Grocery          NaN   \n",
       "412  5ccb2ece166eb31bbbadccbe  511111504788  Condiments & Sauces          NaN   \n",
       "\n",
       "                                                   cpg               name  \\\n",
       "299  {'$ref': 'Cogs', '$id': {'$oid': '5a734034e4b0...               Pace   \n",
       "412  {'$ref': 'Cogs', '$id': {'$oid': '559c2234e4b0...  The Pioneer Woman   \n",
       "\n",
       "    topBrand                    cpg_id cpg_ref      brandCode  \n",
       "299    False  5a734034e4b0d58f376be874    Cogs           PACE  \n",
       "412      NaN  559c2234e4b06aca36af13c6    Cogs  PIONEER WOMAN  "
      ]
     },
     "execution_count": 11,
     "metadata": {},
     "output_type": "execute_result"
    }
   ],
   "source": [
    "data_brands[data_brands.barcode.duplicated()].head(2)"
   ]
  },
  {
   "cell_type": "code",
   "execution_count": 12,
   "metadata": {},
   "outputs": [
    {
     "data": {
      "text/html": [
       "<div>\n",
       "<style scoped>\n",
       "    .dataframe tbody tr th:only-of-type {\n",
       "        vertical-align: middle;\n",
       "    }\n",
       "\n",
       "    .dataframe tbody tr th {\n",
       "        vertical-align: top;\n",
       "    }\n",
       "\n",
       "    .dataframe thead th {\n",
       "        text-align: right;\n",
       "    }\n",
       "</style>\n",
       "<table border=\"1\" class=\"dataframe\">\n",
       "  <thead>\n",
       "    <tr style=\"text-align: right;\">\n",
       "      <th></th>\n",
       "      <th>_id</th>\n",
       "      <th>barcode</th>\n",
       "      <th>category</th>\n",
       "      <th>categoryCode</th>\n",
       "      <th>cpg</th>\n",
       "      <th>name</th>\n",
       "      <th>topBrand</th>\n",
       "      <th>cpg_id</th>\n",
       "      <th>cpg_ref</th>\n",
       "      <th>brandCode</th>\n",
       "    </tr>\n",
       "  </thead>\n",
       "  <tbody>\n",
       "  </tbody>\n",
       "</table>\n",
       "</div>"
      ],
      "text/plain": [
       "Empty DataFrame\n",
       "Columns: [_id, barcode, category, categoryCode, cpg, name, topBrand, cpg_id, cpg_ref, brandCode]\n",
       "Index: []"
      ]
     },
     "execution_count": 12,
     "metadata": {},
     "output_type": "execute_result"
    }
   ],
   "source": [
    "data_brands[data_brands.barcode == '511111504139']"
   ]
  },
  {
   "cell_type": "code",
   "execution_count": null,
   "metadata": {},
   "outputs": [],
   "source": []
  },
  {
   "cell_type": "markdown",
   "metadata": {},
   "source": [
    "### Receipts & Reward Receipt Item List"
   ]
  },
  {
   "cell_type": "markdown",
   "metadata": {},
   "source": [
    "\n",
    "*** \n",
    "**One receipt should have one or many different items.**\n",
    "<br><br>\n",
    "However, there are many same items in one receipt with the same attributes in rewardsReceiptItemList like barcode, description & quantityPurchased etc.\n",
    "<br><br>\n",
    "The meaning behind it is too vague to understand. We cannot tell it if a user purchased many same items or just duplicates issue. But if someone purchased many same products, we should use the attribute of quantityPurchased to represent it instead of using duplicates.\n",
    "\n",
    "\n",
    "***\n"
   ]
  },
  {
   "cell_type": "code",
   "execution_count": 13,
   "metadata": {
    "scrolled": true
   },
   "outputs": [
    {
     "data": {
      "text/plain": [
       "0"
      ]
     },
     "execution_count": 13,
     "metadata": {},
     "output_type": "execute_result"
    }
   ],
   "source": [
    "data_receipts['_id'].duplicated().sum()"
   ]
  },
  {
   "cell_type": "code",
   "execution_count": 14,
   "metadata": {
    "scrolled": true
   },
   "outputs": [
    {
     "data": {
      "text/plain": [
       "6262"
      ]
     },
     "execution_count": 14,
     "metadata": {},
     "output_type": "execute_result"
    }
   ],
   "source": [
    "data_rewardsReceiptItemList['receiptid'].duplicated().sum()"
   ]
  },
  {
   "cell_type": "code",
   "execution_count": 15,
   "metadata": {
    "scrolled": true
   },
   "outputs": [
    {
     "data": {
      "text/plain": [
       "\"[{'barcode': '034100573065', 'description': 'MILLER LITE 24 PACK 12OZ CAN', 'finalPrice': '29', 'itemPrice': '29', 'partnerItemId': '1', 'pointsEarned': '870.0', 'pointsPayerId': '5332f709e4b03c9a25efd0f1', 'quantityPurchased': 1, 'rewardsGroup': 'MILLER LITE 24 PACK', 'rewardsProductPartnerId': '5332f709e4b03c9a25efd0f1', 'targetPrice': '77', 'receiptid': '5ff1e1b60a7214ada100055c'}, {'barcode': '034100573065', 'description': 'MILLER LITE 24 PACK 12OZ CAN', 'finalPrice': '29', 'itemPrice': '29', 'partnerItemId': '2', 'pointsEarned': '870.0', 'pointsPayerId': '5332f709e4b03c9a25efd0f1', 'quantityPurchased': 1, 'rewardsGroup': 'MILLER LITE 24 PACK', 'rewardsProductPartnerId': '5332f709e4b03c9a25efd0f1', 'targetPrice': '77', 'receiptid': '5ff1e1b60a7214ada100055c'}, {'barcode': '034100573065', 'description': 'MILLER LITE 24 PACK 12OZ CAN', 'finalPrice': '29', 'itemPrice': '29', 'partnerItemId': '3', 'pointsEarned': '870.0', 'pointsPayerId': '5332f709e4b03c9a25efd0f1', 'quantityPurchased': 1, 'rewardsGroup': 'MILLER LITE 24 PACK', 'rewardsProductPartnerId': '5332f709e4b03c9a25efd0f1', 'targetPrice': '77', 'receiptid': '5ff1e1b60a7214ada100055c'}, {'barcode': '034100573065', 'description': 'MILLER LITE 24 PACK 12OZ CAN', 'finalPrice': '29', 'itemPrice': '29', 'partnerItemId': '4', 'pointsEarned': '870.0', 'pointsPayerId': '5332f709e4b03c9a25efd0f1', 'quantityPurchased': 1, 'rewardsGroup': 'MILLER LITE 24 PACK', 'rewardsProductPartnerId': '5332f709e4b03c9a25efd0f1', 'targetPrice': '77', 'receiptid': '5ff1e1b60a7214ada100055c'}, {'barcode': '034100573065', 'description': 'MILLER LITE 24 PACK 12OZ CAN', 'finalPrice': '29', 'itemPrice': '29', 'partnerItemId': '5', 'pointsEarned': '870.0', 'pointsPayerId': '5332f709e4b03c9a25efd0f1', 'quantityPurchased': 1, 'rewardsGroup': 'MILLER LITE 24 PACK', 'rewardsProductPartnerId': '5332f709e4b03c9a25efd0f1', 'targetPrice': '77', 'receiptid': '5ff1e1b60a7214ada100055c'}, {'barcode': '034100573065', 'description': 'MILLER LITE 24 PACK 12OZ CAN', 'finalPrice': '29', 'itemPrice': '29', 'partnerItemId': '6', 'pointsEarned': '870.0', 'pointsPayerId': '5332f709e4b03c9a25efd0f1', 'quantityPurchased': 1, 'rewardsGroup': 'MILLER LITE 24 PACK', 'rewardsProductPartnerId': '5332f709e4b03c9a25efd0f1', 'targetPrice': '77', 'receiptid': '5ff1e1b60a7214ada100055c'}, {'barcode': '034100573065', 'description': 'MILLER LITE 24 PACK 12OZ CAN', 'finalPrice': '29', 'itemPrice': '29', 'partnerItemId': '7', 'pointsEarned': '870.0', 'pointsPayerId': '5332f709e4b03c9a25efd0f1', 'quantityPurchased': 1, 'rewardsGroup': 'MILLER LITE 24 PACK', 'rewardsProductPartnerId': '5332f709e4b03c9a25efd0f1', 'targetPrice': '77', 'receiptid': '5ff1e1b60a7214ada100055c'}, {'barcode': '034100573065', 'description': 'MILLER LITE 24 PACK 12OZ CAN', 'finalPrice': '29', 'itemPrice': '29', 'partnerItemId': '8', 'pointsEarned': '870.0', 'pointsPayerId': '5332f709e4b03c9a25efd0f1', 'quantityPurchased': 1, 'rewardsGroup': 'MILLER LITE 24 PACK', 'rewardsProductPartnerId': '5332f709e4b03c9a25efd0f1', 'targetPrice': '77', 'receiptid': '5ff1e1b60a7214ada100055c'}, {'barcode': '034100573065', 'description': 'MILLER LITE 24 PACK 12OZ CAN', 'finalPrice': '29', 'itemPrice': '29', 'partnerItemId': '9', 'pointsEarned': '870.0', 'pointsPayerId': '5332f709e4b03c9a25efd0f1', 'quantityPurchased': 1, 'rewardsGroup': 'MILLER LITE 24 PACK', 'rewardsProductPartnerId': '5332f709e4b03c9a25efd0f1', 'targetPrice': '77', 'receiptid': '5ff1e1b60a7214ada100055c'}, {'barcode': '034100573065', 'description': 'MILLER LITE 24 PACK 12OZ CAN', 'finalPrice': '29', 'itemPrice': '29', 'partnerItemId': '10', 'pointsEarned': '870.0', 'pointsPayerId': '5332f709e4b03c9a25efd0f1', 'quantityPurchased': 1, 'rewardsGroup': 'MILLER LITE 24 PACK', 'rewardsProductPartnerId': '5332f709e4b03c9a25efd0f1', 'targetPrice': '77', 'receiptid': '5ff1e1b60a7214ada100055c'}]\""
      ]
     },
     "execution_count": 15,
     "metadata": {},
     "output_type": "execute_result"
    }
   ],
   "source": [
    "data_receipts.rewardsReceiptItemList[12] # with receipt id = '5ff1e1b60a7214ada100055c' and barcode = '034100573065'"
   ]
  },
  {
   "cell_type": "markdown",
   "metadata": {},
   "source": [
    "## Inconsistency between user in receipts and users"
   ]
  },
  {
   "cell_type": "markdown",
   "metadata": {},
   "source": [
    "\n",
    "*** \n",
    "**Users in receipts should be included in users table**\n",
    "<br>\n",
    "However, there is user inconsistency, meaning that users in receipts table are more than users in users table.\n",
    "<br>\n",
    "\n",
    "***\n"
   ]
  },
  {
   "cell_type": "code",
   "execution_count": 16,
   "metadata": {},
   "outputs": [],
   "source": [
    "receipts_customers = data_receipts['userId'].unique().tolist()"
   ]
  },
  {
   "cell_type": "code",
   "execution_count": 17,
   "metadata": {},
   "outputs": [],
   "source": [
    "users_customers = user_con['_id'].unique().tolist() # only include consumer users"
   ]
  },
  {
   "cell_type": "code",
   "execution_count": 18,
   "metadata": {
    "scrolled": true
   },
   "outputs": [
    {
     "data": {
      "text/plain": [
       "54"
      ]
     },
     "execution_count": 18,
     "metadata": {},
     "output_type": "execute_result"
    }
   ],
   "source": [
    "len(receipts_customers) - len(users_customers)"
   ]
  },
  {
   "cell_type": "code",
   "execution_count": 19,
   "metadata": {},
   "outputs": [
    {
     "name": "stdout",
     "output_type": "stream",
     "text": [
      "5f9c74f7c88c1415cbddb839\n",
      "5ff1e1e9b6a9d73a3a9f10f6\n",
      "5ff1e1dfcfcf6c399c274ab3\n",
      "5f9c74e3f1937815bd2c1d73\n",
      "5ff1e196cfcf6c399c274a38\n",
      "54943462e4b07e684157a532\n",
      "5ff36d78135e7011bcb86488\n",
      "5964eb07e4b03efd0c0f267b\n",
      "5c3388caea88e15513a95069\n",
      "5ff37124135e7011bcb86bc3\n",
      "5fbc35711d967d1222cbfefc\n",
      "5ff473f3c1e2d0121a9b2707\n",
      "5ff4ce68c1e2d0121a9b3022\n",
      "5fa5ad376a26f611e71ab5ef\n",
      "5ff4ce65c3d63511e2a4853b\n",
      "5ff4ce3cc1e2d0121a9b2fba\n",
      "5ff5d19b8f142f11dd188696\n",
      "5ff73be5eb7c7d31ca8a45a7\n",
      "5ff7741e04929111f6e90902\n",
      "5ff79459b3348b11c933736d\n",
      "5ff75004b3348b11c9336bd6\n",
      "5ff73be9eb7c7d31ca8a45bc\n",
      "5ff7946004929111f6e90ceb\n",
      "5ff726a38f142f11dd1895dc\n",
      "5ff8da4e04929111f6e91462\n",
      "5ff8da7c04929111f6e914de\n",
      "5ff8da65b3348b11c9337b29\n",
      "5ff8da62b3348b11c9337b21\n",
      "5fa5b0b720dc5111dd86dcc1\n",
      "5ff8c88604929111f6e913b7\n",
      "5ff873d304929111f6e91096\n",
      "5ffc98b604929111f6e923f5\n",
      "5ffc9d8cb3348b11c9338927\n",
      "5ffc9da0b3348b11c9338951\n",
      "5ffc8cc104929111f6e922a3\n",
      "5ffcb4b9b3348b11c9338ae7\n",
      "5ffca2f3b3348b11c9338a10\n",
      "5ffc92a104929111f6e923cb\n",
      "5ffcb48d04929111f6e92594\n",
      "5ffc9d9d04929111f6e9244f\n",
      "5ffc9d9cb3348b11c933893f\n",
      "5ffc8cb304929111f6e9229d\n",
      "5ffcb4b8b3348b11c9338ae1\n",
      "59c124bae4b0299e55b0f330\n",
      "5fff2698b3348b03eb45bb10\n",
      "5fff561abd4dff11dda8fa2b\n",
      "5fff4c7d61ffa811fdb0856f\n",
      "6000b884fb296c121a81ad3b\n",
      "6000d4aafb296c121a81b27e\n",
      "6000d4b5fb296c121a81b2bd\n",
      "5e56d38507a0df22a15dfc85\n",
      "5fa32b4d898c7a11a6bcebce\n",
      "6007423b6e6469120a787c2c\n",
      "6006f1c5e257127d5d9aedfb\n",
      "60088d5cb6310511daa4ee6f\n",
      "6008412f6e64697abedcd5d5\n",
      "600861d3be5fc9247bab3e0c\n",
      "600887a5b6310511daa4e9a7\n",
      "60088d58633aab121bb8e424\n",
      "60088838633aab121bb8df69\n",
      "5cd06f1f2acf0a2667da628b\n",
      "60088af5633aab121bb8e31b\n",
      "60088aff633aab121bb8e33d\n",
      "6009f6927d983a124e9adaad\n",
      "6009fd1550b33111943850b1\n",
      "6009969150b33111fd61f6d9\n",
      "600b349550b3311194385600\n",
      "600b2d7a50b33111943855cb\n",
      "600afb2a7d983a124e9aded0\n",
      "600a1a457d983a124e9adb9b\n",
      "600b41d050b3311194385655\n",
      "600af8097d983a124e9adeb3\n",
      "600b39ce50b331119438562a\n",
      "600b00687d983a124e9adef9\n",
      "600a1ddf50b33111943851a2\n",
      "600ba68e7d983a124e9ae1d3\n",
      "600ed95043298911ce45e82c\n",
      "600f489d6fd0dc1768a35a88\n",
      "600f014d4329897eac238b88\n",
      "60118beaa4b74c18d3a8c0f8\n",
      "6010bdf673c60b120490404e\n",
      "6010be18a4b74c120bd19e43\n",
      "5fa8d542b055fd1dfdf09517\n",
      "6010be1c73c60b1204904079\n",
      "60118c09a4b74c18d3a8c12e\n",
      "5fa8d573770b516dda4f4d21\n",
      "5fa41775898c7a11a6bcef3e\n",
      "6012e1e6a4b74c3cbc516088\n",
      "600f29a64329897eac239049\n",
      "60132b8873c60b3ca7f3bae8\n",
      "6014436084231211ce793ced\n",
      "60147a84c8b50e11d8453f29\n",
      "5fc961c3b8cfca11a077dd33\n",
      "60145a5467804a1228b20ded\n",
      "60145a5167804a1228b20ddd\n",
      "6014554a67804a1228b20ca9\n",
      "6014558284231211ce796b88\n",
      "601441a984231211ce792603\n",
      "6014435467804a1228b1dcaf\n",
      "601836c2c8b50e11d8454b58\n",
      "601830cdc8b50e11d8454a6f\n",
      "60182f1dc8b50e11d84548c4\n",
      "601890689a1b091205b61c87\n",
      "60183c839a1b091205b61aca\n",
      "601830ce9a1b091205b618e8\n",
      "601836829a1b091205b6194d\n",
      "601890b2c8b50e11d8454e82\n",
      "60189c92c8b50e11d8454f5d\n",
      "5fb1bd519c09d811e5211cef\n",
      "60189c90c8b50e11d8454f49\n",
      "5fb2da582357ec11d4ecc403\n",
      "542ace60e4b0b3d724922499\n",
      "601aaebde409201029849b3c\n",
      "601c68ce29c30a1227ada468\n",
      "601ead00b57b8a12187fce78\n",
      "6021768799409b11fcf8987f\n",
      "54ca99a9e4b0b11b4f7d6dc5\n",
      "602401f1c081001222409ad6\n",
      "60245433efa60112282c1859\n",
      "6024291f58b989121e6bad5f\n",
      "60253861efa6017a44dc6b50\n",
      "60253891b54593795bf69242\n",
      "60268c7bb545931ac63683af\n",
      "60268c78efa6011bb151077d\n"
     ]
    }
   ],
   "source": [
    "# print users in receipt but not in user\n",
    "for customer in receipts_customers:\n",
    "    if customer not in users_customers:\n",
    "        print(customer)"
   ]
  },
  {
   "cell_type": "code",
   "execution_count": null,
   "metadata": {},
   "outputs": [],
   "source": []
  },
  {
   "cell_type": "code",
   "execution_count": null,
   "metadata": {},
   "outputs": [],
   "source": []
  },
  {
   "cell_type": "code",
   "execution_count": null,
   "metadata": {},
   "outputs": [],
   "source": []
  },
  {
   "cell_type": "code",
   "execution_count": null,
   "metadata": {},
   "outputs": [],
   "source": []
  }
 ],
 "metadata": {
  "kernelspec": {
   "display_name": "Python 3",
   "language": "python",
   "name": "python3"
  },
  "language_info": {
   "codemirror_mode": {
    "name": "ipython",
    "version": 3
   },
   "file_extension": ".py",
   "mimetype": "text/x-python",
   "name": "python",
   "nbconvert_exporter": "python",
   "pygments_lexer": "ipython3",
   "version": "3.7.1"
  },
  "toc": {
   "base_numbering": 1,
   "nav_menu": {},
   "number_sections": true,
   "sideBar": true,
   "skip_h1_title": false,
   "title_cell": "Table of Contents",
   "title_sidebar": "Contents",
   "toc_cell": false,
   "toc_position": {},
   "toc_section_display": true,
   "toc_window_display": false
  }
 },
 "nbformat": 4,
 "nbformat_minor": 4
}
